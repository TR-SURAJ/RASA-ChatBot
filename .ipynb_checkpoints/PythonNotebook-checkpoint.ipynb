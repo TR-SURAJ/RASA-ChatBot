{
 "cells": [
  {
   "cell_type": "code",
   "execution_count": 1,
   "metadata": {},
   "outputs": [],
   "source": []
  },
  {
   "cell_type": "code",
   "execution_count": 2,
   "metadata": {},
   "outputs": [],
   "source": [
    "from datetime import date\n",
    "import pandas as pd\n",
    "import sqlite"
   ]
  },
  {
   "cell_type": "code",
   "execution_count": 3,
   "metadata": {},
   "outputs": [],
   "source": [
    "conn = sqlite3.connect(\"hoteldata.sqlite\")"
   ]
  },
  {
   "cell_type": "code",
   "execution_count": 4,
   "metadata": {},
   "outputs": [
    {
     "data": {
      "text/plain": [
       "<sqlite3.Connection at 0x7fd6731a53b0>"
      ]
     },
     "execution_count": 4,
     "metadata": {},
     "output_type": "execute_result"
    }
   ],
   "source": [
    "conn"
   ]
  },
  {
   "cell_type": "code",
   "execution_count": 27,
   "metadata": {},
   "outputs": [],
   "source": [
    "query = \"SELECT name,address,rating,url FROM hoteldata where city=\\\"Bangalore\\\" and img!=\\\"\\\" and facility!=\\\"\\\" order by rating DESC LIMIT 5\""
   ]
  },
  {
   "cell_type": "code",
   "execution_count": 47,
   "metadata": {},
   "outputs": [
    {
     "data": {
      "text/plain": [
       "'SELECT name,address,rating,url FROM hoteldata where city=\"Bangalore\" and img!=\"\" and facility!=\"\" order by rating DESC LIMIT 5'"
      ]
     },
     "execution_count": 47,
     "metadata": {},
     "output_type": "execute_result"
    }
   ],
   "source": [
    "query"
   ]
  },
  {
   "cell_type": "code",
   "execution_count": 48,
   "metadata": {},
   "outputs": [],
   "source": [
    "df = pd.read_sql(query,conn)"
   ]
  },
  {
   "cell_type": "code",
   "execution_count": 49,
   "metadata": {},
   "outputs": [
    {
     "data": {
      "text/html": [
       "<div>\n",
       "<style scoped>\n",
       "    .dataframe tbody tr th:only-of-type {\n",
       "        vertical-align: middle;\n",
       "    }\n",
       "\n",
       "    .dataframe tbody tr th {\n",
       "        vertical-align: top;\n",
       "    }\n",
       "\n",
       "    .dataframe thead th {\n",
       "        text-align: right;\n",
       "    }\n",
       "</style>\n",
       "<table border=\"1\" class=\"dataframe\">\n",
       "  <thead>\n",
       "    <tr style=\"text-align: right;\">\n",
       "      <th></th>\n",
       "      <th>name</th>\n",
       "      <th>address</th>\n",
       "      <th>rating</th>\n",
       "      <th>url</th>\n",
       "    </tr>\n",
       "  </thead>\n",
       "  <tbody>\n",
       "    <tr>\n",
       "      <td>0</td>\n",
       "      <td>Best Western Plus Jagadish</td>\n",
       "      <td>No 51, 4th Block, 11th Main, Jayanagar, Bangal...</td>\n",
       "      <td>4 star</td>\n",
       "      <td>https://www.google.com</td>\n",
       "    </tr>\n",
       "    <tr>\n",
       "      <td>1</td>\n",
       "      <td>Casa Cottage</td>\n",
       "      <td>N-2, clapham Street, Richmond road , Richmond ...</td>\n",
       "      <td>3 star</td>\n",
       "      <td>https://www.google.com</td>\n",
       "    </tr>\n",
       "    <tr>\n",
       "      <td>2</td>\n",
       "      <td>The Elite Royale</td>\n",
       "      <td>9th Main,13th Corss,6th Sector , H S R Layout-...</td>\n",
       "      <td>3 star</td>\n",
       "      <td>https://www.google.com</td>\n",
       "    </tr>\n",
       "    <tr>\n",
       "      <td>3</td>\n",
       "      <td>Melange Luxury Service Apartment</td>\n",
       "      <td>No 21 Suryamukhi Garden Apartments , Vittal Ma...</td>\n",
       "      <td>3 star</td>\n",
       "      <td>https://www.google.com</td>\n",
       "    </tr>\n",
       "    <tr>\n",
       "      <td>4</td>\n",
       "      <td>The Orange Hotel</td>\n",
       "      <td>No.90/6, Nr Innovative MultiplexOuter Ring Rd ...</td>\n",
       "      <td>3 star</td>\n",
       "      <td>https://www.google.com</td>\n",
       "    </tr>\n",
       "  </tbody>\n",
       "</table>\n",
       "</div>"
      ],
      "text/plain": [
       "                               name  \\\n",
       "0        Best Western Plus Jagadish   \n",
       "1                      Casa Cottage   \n",
       "2                  The Elite Royale   \n",
       "3  Melange Luxury Service Apartment   \n",
       "4                  The Orange Hotel   \n",
       "\n",
       "                                             address  rating  \\\n",
       "0  No 51, 4th Block, 11th Main, Jayanagar, Bangal...  4 star   \n",
       "1  N-2, clapham Street, Richmond road , Richmond ...  3 star   \n",
       "2  9th Main,13th Corss,6th Sector , H S R Layout-...  3 star   \n",
       "3  No 21 Suryamukhi Garden Apartments , Vittal Ma...  3 star   \n",
       "4  No.90/6, Nr Innovative MultiplexOuter Ring Rd ...  3 star   \n",
       "\n",
       "                      url  \n",
       "0  https://www.google.com  \n",
       "1  https://www.google.com  \n",
       "2  https://www.google.com  \n",
       "3  https://www.google.com  \n",
       "4  https://www.google.com  "
      ]
     },
     "execution_count": 49,
     "metadata": {},
     "output_type": "execute_result"
    }
   ],
   "source": [
    "df"
   ]
  },
  {
   "cell_type": "code",
   "execution_count": 31,
   "metadata": {},
   "outputs": [],
   "source": [
    "if df.shape[0]>0:\n",
    "    values = list(df.values)"
   ]
  },
  {
   "cell_type": "code",
   "execution_count": 35,
   "metadata": {},
   "outputs": [
    {
     "data": {
      "text/plain": [
       "[array(['Best Western Plus Jagadish',\n",
       "        'No 51, 4th Block, 11th Main, Jayanagar, Bangalore , Jayanagar',\n",
       "        '4 star', 'https://www.google.com'], dtype=object),\n",
       " array(['Casa Cottage',\n",
       "        'N-2, clapham Street, Richmond road , Richmond Road', '3 star',\n",
       "        'https://www.google.com'], dtype=object),\n",
       " array(['The Elite Royale',\n",
       "        '9th Main,13th Corss,6th Sector , H S R Layout-Koramangala',\n",
       "        '3 star', 'https://www.google.com'], dtype=object),\n",
       " array(['Melange Luxury Service Apartment',\n",
       "        'No 21 Suryamukhi Garden Apartments , Vittal Mallya Road',\n",
       "        '3 star', 'https://www.google.com'], dtype=object),\n",
       " array(['The Orange Hotel',\n",
       "        'No.90/6, Nr Innovative MultiplexOuter Ring Rd , Marathahalli',\n",
       "        '3 star', 'https://www.google.com'], dtype=object)]"
      ]
     },
     "execution_count": 35,
     "metadata": {},
     "output_type": "execute_result"
    }
   ],
   "source": [
    "values"
   ]
  },
  {
   "cell_type": "code",
   "execution_count": 45,
   "metadata": {},
   "outputs": [],
   "source": [
    "content = 'Below are the Options:\\n\\n\\n'\n",
    "count = 0;\n",
    "for data in values:\n",
    "    hotelName = data[0]\n",
    "    address = data[1]\n",
    "    rating = data[2]\n",
    "    Link = data[3]\n",
    "        \n",
    "    content = content +\"Hotel Name: \"+hotelName+\"\\nAddress: \"+address+\"\\nRating: \"+rating+\"\\nBook Now: \"+Link+\"\\n\\n\"\n",
    "    \n",
    "    "
   ]
  },
  {
   "cell_type": "code",
   "execution_count": 46,
   "metadata": {},
   "outputs": [
    {
     "name": "stdout",
     "output_type": "stream",
     "text": [
      "Below are the Options:\n",
      "\n",
      "\n",
      "Hotel Name: Best Western Plus Jagadish\n",
      "Address: No 51, 4th Block, 11th Main, Jayanagar, Bangalore , Jayanagar\n",
      "Rating: 4 star\n",
      "Book Now: https://www.google.com\n",
      "\n",
      "Hotel Name: Casa Cottage\n",
      "Address: N-2, clapham Street, Richmond road , Richmond Road\n",
      "Rating: 3 star\n",
      "Book Now: https://www.google.com\n",
      "\n",
      "Hotel Name: The Elite Royale\n",
      "Address: 9th Main,13th Corss,6th Sector , H S R Layout-Koramangala\n",
      "Rating: 3 star\n",
      "Book Now: https://www.google.com\n",
      "\n",
      "Hotel Name: Melange Luxury Service Apartment\n",
      "Address: No 21 Suryamukhi Garden Apartments , Vittal Mallya Road\n",
      "Rating: 3 star\n",
      "Book Now: https://www.google.com\n",
      "\n",
      "Hotel Name: The Orange Hotel\n",
      "Address: No.90/6, Nr Innovative MultiplexOuter Ring Rd , Marathahalli\n",
      "Rating: 3 star\n",
      "Book Now: https://www.google.com\n",
      "\n",
      "\n"
     ]
    }
   ],
   "source": [
    "print(content)"
   ]
  },
  {
   "cell_type": "code",
   "execution_count": null,
   "metadata": {},
   "outputs": [],
   "source": []
  }
 ],
 "metadata": {
  "kernelspec": {
   "display_name": "Python 3",
   "language": "python",
   "name": "python3"
  },
  "language_info": {
   "codemirror_mode": {
    "name": "ipython",
    "version": 3
   },
   "file_extension": ".py",
   "mimetype": "text/x-python",
   "name": "python",
   "nbconvert_exporter": "python",
   "pygments_lexer": "ipython3",
   "version": "3.8.5"
  }
 },
 "nbformat": 4,
 "nbformat_minor": 2
}
